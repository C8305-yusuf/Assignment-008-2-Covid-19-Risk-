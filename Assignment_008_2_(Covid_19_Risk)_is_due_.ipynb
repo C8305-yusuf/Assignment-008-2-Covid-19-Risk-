{
  "nbformat": 4,
  "nbformat_minor": 0,
  "metadata": {
    "colab": {
      "name": "Assignment-008/2 (Covid-19 Risk) is due .ipynb",
      "private_outputs": true,
      "provenance": []
    },
    "kernelspec": {
      "name": "python3",
      "display_name": "Python 3"
    },
    "language_info": {
      "name": "python"
    }
  },
  "cells": [
    {
      "cell_type": "markdown",
      "metadata": {
        "id": "VQCSgjXPfLrA"
      },
      "source": [
        "Write your Python codes on any IDE, push it up to your GitHub repository and submit your GitHub Page link address in addition to your code as a plain text.\n",
        "\n",
        "Problem :\n",
        "\n",
        "Task : Estimating the risk of death from coronavirus. Write a program that;\n",
        "\n",
        "Takes \"Yes\" or \"No\" from the user as an answer to the following questions :\n",
        "\n",
        "Are you a cigarette addict older than 75 years old? Variable → age\n",
        "\n",
        "Do you have a severe chronic disease? Variable → chronic\n",
        "\n",
        "Is your immune system too weak? Variable → immune\n",
        "\n",
        "Set a logical algorithm using boolean logic operators (and/or) and use if-statements with the given variables in order to print out us a message : \"You are in risky group\"(if True ) or \"You are not in risky group\" (if False).\n",
        "\n",
        "age =  # can be assigned only True/False\n",
        "chronic =  # can be assigned only True/False\n",
        "immune =  # can be assigned only True/False\n",
        "risk = ?"
      ]
    },
    {
      "cell_type": "code",
      "metadata": {
        "id": "S7KvrBdHfUcQ"
      },
      "source": [
        "age = input(\"Are you a cigarette addict older than 75 years old? (Yes/No)\").title().strip() == \"Yes\"\n",
        "\n",
        "if age:\n",
        "  print(\"You are in risky group\")\n",
        "else:\n",
        "  chronic = input(\"Do you have a severe chronic disease?  (Yes/No)\").title().strip() == \"Yes\" \n",
        "  if chronic:\n",
        "    print(\"You are in risky group\")\n",
        "  else:\n",
        "    immune = input(\"Is your immune system too weak? (Yes/No)\").title().strip() == \"Yes\"\n",
        "    if immune:\n",
        "      print(\"You are in risky group\")\n",
        "    else:\n",
        "      print(\"You are not in risky group\")\n",
        "\n",
        "\n",
        "\n",
        "\n"
      ],
      "execution_count": null,
      "outputs": []
    },
    {
      "cell_type": "code",
      "metadata": {
        "id": "hegQdap2H5R4"
      },
      "source": [
        "gender = input(\"Are you male? (Yes/No) \").title().strip() == \"Yes\"\n",
        "print(gender)"
      ],
      "execution_count": null,
      "outputs": []
    }
  ]
}